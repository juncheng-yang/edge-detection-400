{
 "cells": [
  {
   "cell_type": "code",
   "execution_count": 4,
   "id": "c08c0ddf",
   "metadata": {},
   "outputs": [],
   "source": [
    "import cv2\n",
    "import numpy as np\n",
    "\n",
    "# Read the image\n",
    "img = cv2.imread(\"side-walk-2.jpg\")\n",
    "\n",
    "# Resize the image\n",
    "scale = 0.25\n",
    "small_img = cv2.resize(img, None, fx=scale, fy=scale)\n",
    "\n",
    "# Convert to grayscale\n",
    "gray = cv2.cvtColor(small_img, cv2.COLOR_BGR2GRAY)\n",
    "\n",
    "# Create a window and trackbars\n",
    "cv2.namedWindow('window')\n",
    "cv2.createTrackbar('lower', 'window', 0, 255, lambda x: None)\n",
    "cv2.createTrackbar('upper', 'window', 0, 255, lambda x: None)\n",
    "\n",
    "while True:\n",
    "    # Get the current positions of the trackbars\n",
    "    low = cv2.getTrackbarPos('lower', 'window')\n",
    "    high = cv2.getTrackbarPos('upper', 'window')\n",
    "\n",
    "    # Apply Canny edge detection\n",
    "    blurred = cv2.GaussianBlur(gray, (5, 5), 0)\n",
    "    edge = cv2.Canny(blurred, low, high)\n",
    "\n",
    "    # Detect lines using Hough transform\n",
    "    lines = cv2.HoughLinesP(edge, 1, np.pi / 180, threshold=100, minLineLength=20, maxLineGap=20)\n",
    "\n",
    "    # Draw lines on the original image\n",
    "    line_img = small_img.copy()\n",
    "    if lines is not None:\n",
    "        for line in lines:\n",
    "            x1, y1, x2, y2 = line[0]\n",
    "            cv2.line(line_img, (x1, y1), (x2, y2), (0, 255, 0), 2)\n",
    "\n",
    "    # Show the original image with detected lines\n",
    "    cv2.imshow('window', line_img)\n",
    "\n",
    "    # Check for 'q' key press to exit the loop and save the result image and parameter values\n",
    "    key = cv2.waitKey(1)\n",
    "    if key == ord('q'):\n",
    "        # Save the result image\n",
    "        cv2.imwrite('result_image-2.jpg', line_img)\n",
    "        \n",
    "        # Save the parameter values to a text file\n",
    "        with open('canny_parameters-2.txt', 'w') as f:\n",
    "            f.write(f'Lower Threshold: {low}\\n')\n",
    "            f.write(f'Higher Threshold: {high}\\n')\n",
    "        \n",
    "        cv2.destroyAllWindows()\n",
    "        break"
   ]
  }
 ],
 "metadata": {
  "kernelspec": {
   "display_name": "Python 3 (ipykernel)",
   "language": "python",
   "name": "python3"
  },
  "language_info": {
   "codemirror_mode": {
    "name": "ipython",
    "version": 3
   },
   "file_extension": ".py",
   "mimetype": "text/x-python",
   "name": "python",
   "nbconvert_exporter": "python",
   "pygments_lexer": "ipython3",
   "version": "3.9.13"
  }
 },
 "nbformat": 4,
 "nbformat_minor": 5
}
